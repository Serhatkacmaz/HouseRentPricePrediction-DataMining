{
 "cells": [
  {
   "cell_type": "markdown",
   "id": "834c8afd",
   "metadata": {},
   "source": [
    "# Machine Learning"
   ]
  },
  {
   "cell_type": "code",
   "execution_count": 245,
   "id": "f8f63f02",
   "metadata": {},
   "outputs": [],
   "source": [
    "import pandas as pd\n",
    "import xgboost as xgb\n",
    "from xgboost import XGBRegressor\n",
    "from sklearn.model_selection import train_test_split, GridSearchCV,cross_val_score\n",
    "from sklearn.metrics import mean_squared_error, r2_score\n",
    "import numpy as np\n",
    "from sklearn import model_selection"
   ]
  },
  {
   "cell_type": "code",
   "execution_count": 246,
   "id": "da51c065",
   "metadata": {},
   "outputs": [],
   "source": [
    "df_Numeric = pd.read_excel(r\"mergeHome_Numeric.xlsx\")\n",
    "df_Numeric.drop(\"Unnamed: 0\", axis = 1, inplace = True)"
   ]
  },
  {
   "cell_type": "code",
   "execution_count": 247,
   "id": "af609b83",
   "metadata": {},
   "outputs": [],
   "source": [
    "# Bagımlı Degisken -> Fiyat\n",
    "# Bagımsız Degisken ayrımı -> Fiyaat dşındaki özellikler\n",
    "\n",
    "X = df_Numeric.drop([\"Fiyat\"], axis = 1)\n",
    "y = df_Numeric[\"Fiyat\"]"
   ]
  },
  {
   "cell_type": "markdown",
   "id": "0d56fa77",
   "metadata": {},
   "source": [
    "## Train and Test Data"
   ]
  },
  {
   "cell_type": "code",
   "execution_count": 248,
   "id": "48a10719",
   "metadata": {},
   "outputs": [],
   "source": [
    "X_train,X_test, y_train,y_test = train_test_split(X,y,test_size = 0.1,random_state = 0)"
   ]
  },
  {
   "cell_type": "markdown",
   "id": "d0d3ccfe",
   "metadata": {},
   "source": [
    "## GridSearchCV"
   ]
  },
  {
   "cell_type": "code",
   "execution_count": 249,
   "id": "aa9c433a",
   "metadata": {},
   "outputs": [],
   "source": [
    "# GridSearchCV -> Modelimizde en iyi parametrelerin ne oldugunu buluyor\n",
    "\n",
    "#params = {\"colsample_bytree\":[0.4,0.5,0.6],\n",
    "         #\"learning_rate\":[0.01,0.02,0.09],\n",
    "         #\"max_depth\":[2,3,4,5,6],\n",
    "         #\"n_estimators\":[100,200,500,2000]}"
   ]
  },
  {
   "cell_type": "code",
   "execution_count": 250,
   "id": "60b5e0db",
   "metadata": {},
   "outputs": [],
   "source": [
    "#xgb = XGBRegressor()"
   ]
  },
  {
   "cell_type": "code",
   "execution_count": 251,
   "id": "d86dbc5f",
   "metadata": {},
   "outputs": [],
   "source": [
    "#grid = GridSearchCV(xgb, params, cv = 10, n_jobs = -1, verbose = 2)"
   ]
  },
  {
   "cell_type": "code",
   "execution_count": 252,
   "id": "4d96d431",
   "metadata": {},
   "outputs": [],
   "source": [
    "#grid.fit(X_train, y_train)\n",
    "#grid.best_params_"
   ]
  },
  {
   "cell_type": "markdown",
   "id": "3f02f8b4",
   "metadata": {},
   "source": [
    "## Best Parameters"
   ]
  },
  {
   "cell_type": "code",
   "execution_count": 253,
   "id": "86d90eaa",
   "metadata": {},
   "outputs": [],
   "source": [
    "xgb1 = XGBRegressor(colsample_bytree = 0.5, learning_rate = 0.02, max_depth = 6, n_estimators = 2000)"
   ]
  },
  {
   "cell_type": "markdown",
   "id": "0744c4fd",
   "metadata": {},
   "source": [
    "## Model Traning"
   ]
  },
  {
   "cell_type": "code",
   "execution_count": 254,
   "id": "a64c8d00",
   "metadata": {},
   "outputs": [],
   "source": [
    "model_xgb = xgb1.fit(X_train, y_train)"
   ]
  },
  {
   "cell_type": "markdown",
   "id": "d3166210",
   "metadata": {},
   "source": [
    "## Tahmin"
   ]
  },
  {
   "cell_type": "code",
   "execution_count": 259,
   "id": "d69cdb02",
   "metadata": {},
   "outputs": [
    {
     "data": {
      "text/plain": [
       "array([14201.917, 15820.63 , 22637.453], dtype=float32)"
      ]
     },
     "execution_count": 259,
     "metadata": {},
     "output_type": "execute_result"
    }
   ],
   "source": [
    "model_xgb.predict(X_test)[15:18] # tahmin edilen degerler"
   ]
  },
  {
   "cell_type": "code",
   "execution_count": 260,
   "id": "57b05403",
   "metadata": {},
   "outputs": [
    {
     "name": "stderr",
     "output_type": "stream",
     "text": [
      "C:\\Users\\serha\\AppData\\Local\\Temp\\ipykernel_10656\\2733214726.py:1: FutureWarning: The behavior of `series[i:j]` with an integer-dtype index is deprecated. In a future version, this will be treated as *label-based* indexing, consistent with e.g. `series[i]` lookups. To retain the old behavior, use `series.iloc[i:j]`. To get the future behavior, use `series.loc[i:j]`.\n",
      "  y_test[15:18]\n"
     ]
    },
    {
     "data": {
      "text/plain": [
       "3657    17500\n",
       "5004    13500\n",
       "4956    25600\n",
       "Name: Fiyat, dtype: int64"
      ]
     },
     "execution_count": 260,
     "metadata": {},
     "output_type": "execute_result"
    }
   ],
   "source": [
    "\n",
    "y_test[15:18]"
   ]
  },
  {
   "cell_type": "markdown",
   "id": "fbab1dc5",
   "metadata": {},
   "source": [
    "## Score"
   ]
  },
  {
   "cell_type": "code",
   "execution_count": 257,
   "id": "896f59cb",
   "metadata": {},
   "outputs": [
    {
     "data": {
      "text/plain": [
       "0.7119227967475703"
      ]
     },
     "execution_count": 257,
     "metadata": {},
     "output_type": "execute_result"
    }
   ],
   "source": [
    "model_xgb.score(X_test, y_test)"
   ]
  },
  {
   "cell_type": "code",
   "execution_count": 258,
   "id": "40c57876",
   "metadata": {},
   "outputs": [
    {
     "data": {
      "text/plain": [
       "0.8924473943547764"
      ]
     },
     "execution_count": 258,
     "metadata": {},
     "output_type": "execute_result"
    }
   ],
   "source": [
    "model_xgb.score(X_train, y_train)"
   ]
  },
  {
   "cell_type": "markdown",
   "id": "2f19e574",
   "metadata": {},
   "source": [
    "# one home Test"
   ]
  },
  {
   "cell_type": "code",
   "execution_count": 281,
   "id": "cc044755",
   "metadata": {},
   "outputs": [],
   "source": [
    "new_data = [[2],[95],[80],[7],[3],[5],[0],[1]]"
   ]
  },
  {
   "cell_type": "code",
   "execution_count": 282,
   "id": "a5914ec7",
   "metadata": {},
   "outputs": [],
   "source": [
    "new_data = pd.DataFrame(new_data).T"
   ]
  },
  {
   "cell_type": "code",
   "execution_count": 283,
   "id": "367896f0",
   "metadata": {},
   "outputs": [
    {
     "data": {
      "text/plain": [
       "array([4862.52], dtype=float32)"
      ]
     },
     "execution_count": 283,
     "metadata": {},
     "output_type": "execute_result"
    }
   ],
   "source": [
    "df_new = new_data.rename(columns={\n",
    "     0: \"Oda_Sayisi\",\n",
    "     1: \"Brut\",\n",
    "     2: \"Net\",\n",
    "     3: \"Bulundugu_Kat\",\n",
    "     4: \"Bina_Yas\",\n",
    "     5: \"Isitma_Tipi\",\n",
    "     6: \"Esya_Durumu\",\n",
    "     7: \"Ilce\"})\n",
    "\n",
    "pred = model_xgb.predict(df_new)\n",
    "pred"
   ]
  },
  {
   "cell_type": "code",
   "execution_count": null,
   "id": "52beaa8a",
   "metadata": {},
   "outputs": [],
   "source": []
  }
 ],
 "metadata": {
  "kernelspec": {
   "display_name": "Python 3 (ipykernel)",
   "language": "python",
   "name": "python3"
  },
  "language_info": {
   "codemirror_mode": {
    "name": "ipython",
    "version": 3
   },
   "file_extension": ".py",
   "mimetype": "text/x-python",
   "name": "python",
   "nbconvert_exporter": "python",
   "pygments_lexer": "ipython3",
   "version": "3.10.7"
  }
 },
 "nbformat": 4,
 "nbformat_minor": 5
}
